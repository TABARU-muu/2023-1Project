{
  "nbformat": 4,
  "nbformat_minor": 0,
  "metadata": {
    "colab": {
      "provenance": []
    },
    "kernelspec": {
      "name": "python3",
      "display_name": "Python 3"
    },
    "language_info": {
      "name": "python"
    }
  },
  "cells": [
    {
      "cell_type": "code",
      "execution_count": 7,
      "metadata": {
        "id": "jqM3qUXd19q6"
      },
      "outputs": [],
      "source": [
        "import requests\n",
        "import json\n",
        "import pandas as pd\n",
        "import numpy as np\n",
        "import cv2\n",
        "import tensorflow as tf\n",
        "from tensorflow.keras.applications.vgg16 import VGG16\n",
        "from tensorflow.keras.preprocessing import image\n",
        "from tensorflow.keras.applications.vgg16 import preprocess_input\n",
        "from sklearn.metrics.pairwise import cosine_similarity\n",
        "from sklearn.feature_extraction.text import CountVectorizer\n",
        "import folium\n",
        "\n",
        "# 1. 데이터 수집 및 전처리\n",
        "\n",
        "# 관광지 데이터 수집\n",
        "keyword_list = ['맛집', '분위기 좋은', '테마파크', '오션뷰', '감성', '가족여행', '체험', '휴식', '레포츠', '가볼만한 곳']\n",
        "category_list = ['CT1', 'AT4', 'FD6', 'CE7']\n",
        "city_list = ['제주시', '서귀포시']\n",
        "tourist_data = []\n",
        "\n",
        "for city in city_list:\n",
        "    for keyword in keyword_list:\n",
        "        for category in category_list:\n",
        "            # 카카오 키워드 검색 API를 사용하여 데이터 수집\n",
        "            # 수집한 데이터를 tourist_data 리스트에 추가\n",
        "            pass\n",
        "\n",
        "tourist_df = pd.DataFrame(tourist_data)\n",
        "\n"
      ]
    },
    {
      "cell_type": "code",
      "source": [
        "from PIL import Image\n",
        "import torch\n",
        "import torchvision.transforms as transforms\n",
        "from torchvision.models import resnet50\n",
        "import pydot\n",
        "\n",
        "# 이미지 분류 모델로 음식 이미지를 분류하여 카테고리로 라벨링하는 함수\n",
        "def classify_food_image(image):\n",
        "    # 이미지 분류 모델로 음식 이미지를 분류하여 카테고리로 예측\n",
        "    # 이 부분은 사용하고자 하는 이미지 분류 모델에 따라 구현해야 합니다.\n",
        "    predicted_category = your_image_classification_model(image)\n",
        "\n",
        "    # 예측된 카테고리 반환\n",
        "    return predicted_category\n",
        "\n",
        "\n",
        "# 음식 카테고리 선정\n",
        "food_categories = [\"chicken\", \"Grilled pork\", \"chinese food\", \"sea food\", \"noodle\", \"Grilled fish\", \"Grilled Cutlassfish\",\n",
        "                   \"beef\", \"Hanjeongsik\", \"sashimi\", \"boiled pork\", \"hamburger\", \"shrimp sashimi\", \"shrimp\", \"melon prosciutto\",\n",
        "                   \"pork cutlet\", \"bread\", \"pizza\", \"Waffle\", \"Tteokbokki\", \"pasta\", \"ramen\", \"sushi\", \"corn dog\",\n",
        "                   \"American breakfast\", \"crab\", \"curry\", \"bread\", \"soup\", \"tuna\", \"doughnut\", \"koreanstyle sushi(gimbab)\"]\n",
        "\n"
      ],
      "metadata": {
        "id": "uwqqnEgf2JyR"
      },
      "execution_count": 20,
      "outputs": []
    },
    {
      "cell_type": "code",
      "source": [],
      "metadata": {
        "id": "kRD9aN8w-qtY"
      },
      "execution_count": null,
      "outputs": []
    }
  ]
}